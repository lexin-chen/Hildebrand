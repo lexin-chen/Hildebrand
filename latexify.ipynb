{
 "cells": [
  {
   "attachments": {},
   "cell_type": "markdown",
   "metadata": {},
   "source": [
    "# Visualize Formulas with latexify"
   ]
  },
  {
   "cell_type": "code",
   "execution_count": 1,
   "metadata": {},
   "outputs": [
    {
     "name": "stdout",
     "output_type": "stream",
     "text": [
      "Requirement already satisfied: latexify-py==0.2.0 in c:\\users\\lexin\\appdata\\local\\packages\\pythonsoftwarefoundation.python.3.10_qbz5n2kfra8p0\\localcache\\local-packages\\python310\\site-packages (0.2.0)\n",
      "Requirement already satisfied: dill>=0.3.2 in c:\\users\\lexin\\appdata\\local\\packages\\pythonsoftwarefoundation.python.3.10_qbz5n2kfra8p0\\localcache\\local-packages\\python310\\site-packages (from latexify-py==0.2.0) (0.3.6)\n"
     ]
    },
    {
     "name": "stderr",
     "output_type": "stream",
     "text": [
      "\n",
      "[notice] A new release of pip available: 22.3 -> 23.1\n",
      "[notice] To update, run: C:\\Users\\lexin\\AppData\\Local\\Microsoft\\WindowsApps\\PythonSoftwareFoundation.Python.3.10_qbz5n2kfra8p0\\python.exe -m pip install --upgrade pip\n"
     ]
    }
   ],
   "source": [
    "!pip install latexify-py==0.2.0"
   ]
  },
  {
   "cell_type": "code",
   "execution_count": 47,
   "metadata": {},
   "outputs": [
    {
     "data": {
      "text/latex": [
       "$$ \\displaystyle p \\sqrt{\\frac{\\frac{\\left( {\\gamma} ie + ea \\right)^{{2}}}{{2} {\\xi} \\left( {1} + {\\gamma} \\right)^{{2}} \\left( ie - ea \\right)} - {2494.35}}{v_m}} + b $$"
      ],
      "text/plain": [
       "<latexify.frontend.LatexifiedFunction at 0x1ff5f950b80>"
      ]
     },
     "execution_count": 47,
     "metadata": {},
     "output_type": "execute_result"
    }
   ],
   "source": [
    "@latexify.expression(use_math_symbols=True)\n",
    "\n",
    "def model_1():\n",
    "    return p * np.sqrt(((gamma * ie + ea) ** 2 / ((2 * xi * (1 + gamma) ** 2) * \\\n",
    "        (ie - ea)) - 2494.35) / (v_m)) + b\n",
    "\n",
    "model_1"
   ]
  },
  {
   "cell_type": "code",
   "execution_count": 27,
   "metadata": {},
   "outputs": [
    {
     "data": {
      "text/latex": [
       "$$ \\displaystyle p \\sqrt{\\frac{\\frac{\\left( ie + ea \\right)^{{2}}}{{8} {\\xi} \\left( ie - ea \\right)} - {2494.35}}{v_m}} + b $$"
      ],
      "text/plain": [
       "<latexify.frontend.LatexifiedFunction at 0x1ff5f8e3fd0>"
      ]
     },
     "execution_count": 27,
     "metadata": {},
     "output_type": "execute_result"
    }
   ],
   "source": [
    "@latexify.expression(use_math_symbols=True)\n",
    "\n",
    "def model_2():\n",
    "    return p * np.sqrt(((ie + ea) ** 2 / (8 * xi * (ie - ea)) - 2494.35) / \\\n",
    "        (v_m)) + b\n",
    "\n",
    "model_2"
   ]
  },
  {
   "cell_type": "code",
   "execution_count": 21,
   "metadata": {},
   "outputs": [
    {
     "data": {
      "text/latex": [
       "$$ \\displaystyle p \\sqrt{\\frac{\\frac{\\left( {\\gamma} ie + ea \\right)^{{2}}}{{2} \\left( {1} + {\\gamma} \\right)^{{2}} \\left( ie - ea \\right)} - {2494.35}}{v_m}} + b $$"
      ],
      "text/plain": [
       "<latexify.frontend.LatexifiedFunction at 0x1ff5f8e2140>"
      ]
     },
     "execution_count": 21,
     "metadata": {},
     "output_type": "execute_result"
    }
   ],
   "source": [
    "@latexify.expression(use_math_symbols=True)\n",
    "\n",
    "def model_3():\n",
    "    return p * np.sqrt(((gamma * ie + ea) ** 2 / ((2 * (1 + gamma) ** 2) * \\\n",
    "        (ie - ea)) - 2494.35) / (v_m)) + b\n",
    "\n",
    "model_3"
   ]
  },
  {
   "cell_type": "code",
   "execution_count": 26,
   "metadata": {},
   "outputs": [
    {
     "data": {
      "text/latex": [
       "$$ \\displaystyle p \\sqrt{\\frac{\\frac{\\left( ie + ea \\right)^{{2}}}{{8} \\left( ie - ea \\right)} \\left( {1} + \\frac{ie + ea}{{6} \\left( ie - ea \\right)^{{3}}} h \\right) - {2494.35}}{v_m}} + b $$"
      ],
      "text/plain": [
       "<latexify.frontend.LatexifiedFunction at 0x1ff5f8e2f50>"
      ]
     },
     "execution_count": 26,
     "metadata": {},
     "output_type": "execute_result"
    }
   ],
   "source": [
    "@latexify.expression(use_math_symbols=True)\n",
    "\n",
    "def model_4():\n",
    "    return p * np.sqrt(((ie + ea) ** 2 / (8 * (ie - ea)) * (1 + ((ie + ea) / \\\n",
    "        (6 * (ie - ea) ** 3) * h)) - 2494.35) / (v_m)) + b\n",
    "\n",
    "model_4"
   ]
  },
  {
   "cell_type": "code",
   "execution_count": 30,
   "metadata": {},
   "outputs": [
    {
     "data": {
      "text/latex": [
       "$$ \\displaystyle p \\sqrt{\\frac{\\frac{\\left( ie + ea \\right)^{{2}}}{{8} \\left( ie - ea \\right)} \\left( {1} + \\frac{ie + ea}{{6} \\left( ie - ea \\right)^{{2}}} a \\right) - {2494.35}}{v_m}} + b $$"
      ],
      "text/plain": [
       "<latexify.frontend.LatexifiedFunction at 0x1ff5f8e2950>"
      ]
     },
     "execution_count": 30,
     "metadata": {},
     "output_type": "execute_result"
    }
   ],
   "source": [
    "@latexify.expression(use_math_symbols=True)\n",
    "\n",
    "def model_5():\n",
    "    return p * np.sqrt(((ie + ea) ** 2 / (8 * (ie - ea)) * (1 + ((ie + ea) /\\\n",
    "        (6 * (ie-ea) ** 2) * a)) - 2494.35) / (v_m)) + b\n",
    "\n",
    "model_5"
   ]
  },
  {
   "cell_type": "code",
   "execution_count": 35,
   "metadata": {},
   "outputs": [
    {
     "data": {
      "text/latex": [
       "$$ \\displaystyle p \\sqrt{\\frac{\\frac{\\left( {\\gamma} ie + ea \\right)^{{2}}}{{2} {\\xi} \\left( {1} + {\\gamma} \\right)^{{2}} \\left( ie - ea \\right)} \\left( {1} + \\frac{{\\gamma} ie + ea}{{3} \\left( {1} + {\\gamma} \\right) {\\xi}^{{3}} \\left( ie - ea \\right)^{{3}}} h \\right) - {2494.35}}{v_m}} + b $$"
      ],
      "text/plain": [
       "<latexify.frontend.LatexifiedFunction at 0x1ff5f8e33a0>"
      ]
     },
     "execution_count": 35,
     "metadata": {},
     "output_type": "execute_result"
    }
   ],
   "source": [
    "@latexify.expression(use_math_symbols=True)\n",
    "\n",
    "def model_6():\n",
    "    return p * np.sqrt(((gamma * ie + ea) ** 2 / (2 * xi * (1 + gamma) ** 2 * \\\n",
    "        (ie - ea)) * (1 + ((gamma * ie + ea) / (3 * (1 + gamma) * xi ** 3 * \\\n",
    "        (ie - ea) ** 3) * h)) - 2494.35) / (v_m)) + b\n",
    "\n",
    "model_6"
   ]
  },
  {
   "cell_type": "code",
   "execution_count": 38,
   "metadata": {},
   "outputs": [
    {
     "data": {
      "text/latex": [
       "$$ \\displaystyle p \\sqrt{\\frac{\\frac{\\left( {\\gamma} ie + ea \\right)^{{2}}}{{2} {\\xi} \\left( {1} + {\\gamma} \\right)^{{2}} \\left( ie - ea \\right)} \\left( {1} + \\frac{{\\gamma} ie + ea}{{3} \\left( {1} + {\\gamma} \\right) {\\xi}^{{2}} \\left( ie - ea \\right)^{{2}}} a \\right) - {2494.35}}{v_m}} + b $$"
      ],
      "text/plain": [
       "<latexify.frontend.LatexifiedFunction at 0x1ff5f8e2980>"
      ]
     },
     "execution_count": 38,
     "metadata": {},
     "output_type": "execute_result"
    }
   ],
   "source": [
    "@latexify.expression(use_math_symbols=True)\n",
    "\n",
    "def model_7():\n",
    "    return p * np.sqrt(((gamma * ie + ea) ** 2 / (2 * xi * (1 + gamma) ** 2 * \\\n",
    "        (ie - ea)) * (1 + ((gamma * ie + ea) / (3 * (1 + gamma) * xi ** 2 * \\\n",
    "        (ie - ea) ** 2) * a)) - 2494.35) / (v_m)) + b\n",
    "\n",
    "model_7"
   ]
  },
  {
   "cell_type": "code",
   "execution_count": 39,
   "metadata": {},
   "outputs": [
    {
     "data": {
      "text/latex": [
       "$$ \\displaystyle p \\sqrt{\\frac{\\frac{\\left( ie + ea \\right)^{{2}}}{{8} {\\xi} \\left( ie - ea \\right)} \\left( {1} + \\frac{ie + ea}{{6} {\\xi}^{{3}} \\left( ie - ea \\right)^{{3}}} h \\right) - {2494.35}}{v_m}} + b $$"
      ],
      "text/plain": [
       "<latexify.frontend.LatexifiedFunction at 0x1ff5f950d00>"
      ]
     },
     "execution_count": 39,
     "metadata": {},
     "output_type": "execute_result"
    }
   ],
   "source": [
    "@latexify.expression(use_math_symbols=True)\n",
    "\n",
    "def model_8():\n",
    "    return p * np.sqrt(((ie + ea) ** 2 / (8 * xi * (ie - ea)) * (1 + ((ie + ea) /\\\n",
    "        (6 * xi ** 3 * (ie-ea) ** 3) * h)) - 2494.35) / (v_m)) + b\n",
    "\n",
    "model_8"
   ]
  },
  {
   "cell_type": "code",
   "execution_count": 41,
   "metadata": {},
   "outputs": [
    {
     "data": {
      "text/latex": [
       "$$ \\displaystyle p \\sqrt{\\frac{\\frac{\\left( {\\gamma} ie + ea \\right)^{{2}}}{{8} {\\xi} \\left( ie - ea \\right)} \\left( {1} + \\frac{ie + ea}{{6} {\\xi}^{{2}} \\left( ie - ea \\right)^{{2}}} a \\right) - {2494.35}}{v_m}} + b $$"
      ],
      "text/plain": [
       "<latexify.frontend.LatexifiedFunction at 0x1ff5f9506d0>"
      ]
     },
     "execution_count": 41,
     "metadata": {},
     "output_type": "execute_result"
    }
   ],
   "source": [
    "@latexify.expression(use_math_symbols=True)\n",
    "\n",
    "def model_9():\n",
    "    return p * np.sqrt(((gamma * ie + ea) ** 2 / (8 * xi * (ie - ea)) * (1 + ((ie + ea) /\\\n",
    "        (6 * xi ** 2 * (ie-ea) ** 2) * a)) - 2494.35) / (v_m)) + b\n",
    "    \n",
    "model_9"
   ]
  },
  {
   "cell_type": "code",
   "execution_count": 45,
   "metadata": {},
   "outputs": [
    {
     "data": {
      "text/latex": [
       "$$ \\displaystyle p \\sqrt{\\frac{\\frac{\\left( {\\gamma} ie + ea \\right)^{{2}}}{{2} \\left( {1} + {\\gamma} \\right)^{{2}} \\left( ie - ea \\right)} \\left( {1} + \\frac{{\\gamma} ie + ea}{{3} \\left( {1} + {\\gamma} \\right) \\left( ie - ea \\right)^{{3}}} h \\right) - {2494.35}}{v_m}} + b $$"
      ],
      "text/plain": [
       "<latexify.frontend.LatexifiedFunction at 0x1ff5f8e27a0>"
      ]
     },
     "execution_count": 45,
     "metadata": {},
     "output_type": "execute_result"
    }
   ],
   "source": [
    "@latexify.expression(use_math_symbols=True)\n",
    "\n",
    "def model_10():\n",
    "    return p * np.sqrt(((gamma * ie + ea) ** 2 / (2 * (1 + gamma) ** 2 * \\\n",
    "        (ie - ea)) * (1 + ((gamma * ie + ea) / (3 * (1 + gamma) * \\\n",
    "        (ie - ea) ** 3) * h)) - 2494.35) / (v_m)) + b\n",
    "\n",
    "model_10"
   ]
  },
  {
   "cell_type": "code",
   "execution_count": 46,
   "metadata": {},
   "outputs": [
    {
     "data": {
      "text/latex": [
       "$$ \\displaystyle p \\sqrt{\\frac{\\frac{\\left( {\\gamma} ie + ea \\right)^{{2}}}{{2} \\left( {1} + {\\gamma} \\right)^{{2}} \\left( ie - ea \\right)} \\left( {1} + \\frac{{\\gamma} ie + ea}{{3} \\left( {1} + {\\gamma} \\right) \\left( ie - ea \\right)^{{2}}} a \\right) - {2494.35}}{v_m}} + b $$"
      ],
      "text/plain": [
       "<latexify.frontend.LatexifiedFunction at 0x1ff5f8e3430>"
      ]
     },
     "execution_count": 46,
     "metadata": {},
     "output_type": "execute_result"
    }
   ],
   "source": [
    "@latexify.expression(use_math_symbols=True)\n",
    "\n",
    "def model_11():\n",
    "    return p * np.sqrt(((gamma * ie + ea) ** 2 / (2 * (1 + gamma) ** 2 * \\\n",
    "        (ie - ea)) * (1 + ((gamma * ie + ea) / (3 * (1 + gamma) * \\\n",
    "        (ie - ea) ** 2) * a)) - 2494.35) / (v_m)) + b\n",
    "\n",
    "model_11"
   ]
  }
 ],
 "metadata": {
  "kernelspec": {
   "display_name": "Python 3",
   "language": "python",
   "name": "python3"
  },
  "language_info": {
   "codemirror_mode": {
    "name": "ipython",
    "version": 3
   },
   "file_extension": ".py",
   "mimetype": "text/x-python",
   "name": "python",
   "nbconvert_exporter": "python",
   "pygments_lexer": "ipython3",
   "version": "3.10.11"
  },
  "orig_nbformat": 4
 },
 "nbformat": 4,
 "nbformat_minor": 2
}
